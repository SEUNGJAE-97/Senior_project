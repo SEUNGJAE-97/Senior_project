{
 "cells": [
  {
   "cell_type": "code",
   "execution_count": 3,
   "metadata": {},
   "outputs": [],
   "source": [
    "import albumentations as A\n",
    "import cv2\n",
    "import numpy as np\n",
    "import matplotlib.pyplot as plt\n",
    "from PIL import Image\n",
    "import pandas as pd\n",
    "import sklearn \n",
    "import joblib\n",
    "import os\n",
    "import imgaug\n",
    "from glob import glob"
   ]
  },
  {
   "cell_type": "code",
   "execution_count": 4,
   "metadata": {},
   "outputs": [],
   "source": [
    "def load_img(path):\n",
    "    image = cv2.imread(path)\n",
    "    image = cv2.cvtColor(image, cv2.COLOR_BGR2RGB)\n",
    "    return image    "
   ]
  },
  {
   "cell_type": "code",
   "execution_count": 5,
   "metadata": {},
   "outputs": [],
   "source": [
    "def comparison(actual_image, transformed_image, titles=None):\n",
    "    if titles == None:\n",
    "        titles = ['Actual Image', 'Transformed Image']\n",
    "        \n",
    "    fig, ax = plt.subplots(1, 2, figsize=(17, 17))\n",
    "    ax[0].set_title(titles[0])\n",
    "    if len(actual_image.shape) == 2:\n",
    "        ax[0].imshow(actual_image, cmap='gray')\n",
    "    else:\n",
    "        ax[0].matshow(actual_image)\n",
    "    ax[0].axis('off')\n",
    "\n",
    "    ax[1].set_title(titles[1])\n",
    "    if len(transformed_image.shape) == 2:\n",
    "        ax[1].imshow(transformed_image, cmap='gray')\n",
    "    else:\n",
    "        ax[1].matshow(transformed_image)\n",
    "    ax[1].axis('off')\n",
    "    plt.show()"
   ]
  },
  {
   "cell_type": "code",
   "execution_count": 7,
   "metadata": {},
   "outputs": [],
   "source": [
    "def save_al_img(file_name, path):\n",
    "    A.save(file_name, path)"
   ]
  },
  {
   "cell_type": "code",
   "execution_count": 8,
   "metadata": {},
   "outputs": [],
   "source": [
    "from albumentations import (\n",
    "    HorizontalFlip, IAAPerspective, ShiftScaleRotate, CLAHE, RandomRotate90,\n",
    "    Transpose, ShiftScaleRotate, Blur, OpticalDistortion, GridDistortion, HueSaturationValue,\n",
    "    IAAAdditiveGaussianNoise, GaussNoise, MotionBlur, MedianBlur, IAAPiecewiseAffine,\n",
    "    IAASharpen, IAAEmboss, RandomBrightnessContrast, Flip, OneOf, Compose\n",
    ")"
   ]
  },
  {
   "cell_type": "code",
   "execution_count": 9,
   "metadata": {},
   "outputs": [],
   "source": [
    "height = 150\n",
    "width = 150"
   ]
  },
  {
   "cell_type": "code",
   "execution_count": 10,
   "metadata": {},
   "outputs": [
    {
     "name": "stderr",
     "output_type": "stream",
     "text": [
      "C:\\Users\\lenovo\\anaconda3\\envs\\ml\\lib\\site-packages\\albumentations\\imgaug\\transforms.py:261: FutureWarning: IAAAdditiveGaussianNoise is deprecated. Please use GaussNoise instead\n",
      "  warnings.warn(\"IAAAdditiveGaussianNoise is deprecated. Please use GaussNoise instead\", FutureWarning)\n",
      "C:\\Users\\lenovo\\anaconda3\\envs\\ml\\lib\\site-packages\\albumentations\\imgaug\\transforms.py:299: FutureWarning: This IAAPiecewiseAffine is deprecated. Please use PiecewiseAffine instead\n",
      "  warnings.warn(\"This IAAPiecewiseAffine is deprecated. Please use PiecewiseAffine instead\", FutureWarning)\n",
      "C:\\Users\\lenovo\\anaconda3\\envs\\ml\\lib\\site-packages\\albumentations\\imgaug\\transforms.py:231: FutureWarning: IAASharpen is deprecated. Please use Sharpen instead\n",
      "  warnings.warn(\"IAASharpen is deprecated. Please use Sharpen instead\", FutureWarning)\n",
      "C:\\Users\\lenovo\\anaconda3\\envs\\ml\\lib\\site-packages\\albumentations\\imgaug\\transforms.py:174: FutureWarning: This augmentation is deprecated. Please use Emboss instead\n",
      "  warnings.warn(\"This augmentation is deprecated. Please use Emboss instead\", FutureWarning)\n"
     ]
    }
   ],
   "source": [
    "train_transeforms = Compose([\n",
    "        A.Resize(200,450),\n",
    "        RandomRotate90(),\n",
    "        Flip(),\n",
    "        Transpose(),\n",
    "        OneOf([\n",
    "            IAAAdditiveGaussianNoise(),\n",
    "            GaussNoise(),\n",
    "        ], p=0.2),\n",
    "        OneOf([\n",
    "            MotionBlur(p=0.2),\n",
    "            MedianBlur(blur_limit=3, p=0.1),\n",
    "            Blur(blur_limit=3, p=0.1),\n",
    "        ], p=0.2),\n",
    "        ShiftScaleRotate(shift_limit=0.0625, scale_limit=0.2, rotate_limit=45, p=0.2),\n",
    "        OneOf([\n",
    "            OpticalDistortion(p=0.3),\n",
    "            GridDistortion(p=0.1),\n",
    "            IAAPiecewiseAffine(p=0.3),\n",
    "        ], p=0.2),\n",
    "        OneOf([\n",
    "            CLAHE(clip_limit=2),\n",
    "            IAASharpen(),\n",
    "            IAAEmboss(),\n",
    "            RandomBrightnessContrast(),\n",
    "        ], p=0.3),\n",
    "        HueSaturationValue(p=0.3),\n",
    "        OneOf([\n",
    "            A.Resize(height=height, width=width),\n",
    "            A.RandomResizedCrop(height=height, width=width, scale=(0.3, 1.0)),\n",
    "        ]),\n",
    "\n",
    "        OneOf([\n",
    "            A.CoarseDropout(always_apply=False, p=0.5, max_holes=20, max_height=15, max_width=15, min_holes=1, min_height=8, min_width=8)\n",
    "        ], p=0.2),\n",
    "        OneOf([\n",
    "            A.ElasticTransform(always_apply=False, p=0.5, alpha=0.20000000298023224, sigma=3.359999895095825, alpha_affine=2.009999990463257, interpolation=1, border_mode=1, value=(0, 0, 0), mask_value=None, approximate=False)\n",
    "        ], p = 0.3),\n",
    "        OneOf([\n",
    "            HorizontalFlip(always_apply= False, p=0.5)\n",
    "\n",
    "        ],p=0.2)\n",
    "    ], p= 1.0)\n",
    "                "
   ]
  },
  {
   "cell_type": "code",
   "execution_count": 26,
   "metadata": {},
   "outputs": [
    {
     "name": "stdout",
     "output_type": "stream",
     "text": [
      "['198701126', '198801248', '198801534', '198801657', '198901340', '199001505', '199101702', '199301551', '199401319', '199501306', '199601642', '199601724', '199701845', '199701895', '199801389', '199801580', '199801651', '199801826', '199801864', '199801880', '199801882', '199901577', '199901764', '199901886', '199901915', '199906848', '200108428', '200201717', '200301465', '200401859', '200907782', '200907817', '200908266', '200908444', '200908499', '200908500', '200908862', '200908953', '201000163', '201000674', '201101253', '201101451', '201101491', '201101508', '201101576', '201101585', '201101857', '201101885', '201102120', '201102470', '201102473', '201102545', '201102546', '201102618', '201103116', '201103161', '201103214', '201103297', '201103308', '201103309', '201103366', '201103449', '201105511', '201105613', '201105697', '201105818', '201105914', '201105915', '201106062', '201106063', '201106314', '201106322', '201106367', '201106371', '201106770', '201109259', '201109329', '201109333', '201109335', '201109431', '201109435', '201109442', '201109596', '201109826', '201109827', '201109900', '201110104', '201110105', '201110123', '201110192', '201110262', '201110452', '201110467', '201110513', '201110661', '201110739', '201110747', '201110830', '201111087', '201112195', '201200120', '201206445', '201206484', '201206525', '201206552', '201206553', '201206575', '201206592', '201206776', '201206781', '201206828', '201206871', '201206916', '201206997', '201206998', '201207011', '201207054', '201207068', '201207104', '201207105', '201207237', '201207343', '201207344', '201207415', '201207487', '201207490', '201207507', '201210185', '201210189', '201210739', '201211056', '201211098', '201300020', '201300035', '201300036', '201300049', '201300109', '201300127', '201301235', '201301370', '201301376', '201301655', 'my_image']\n"
     ]
    },
    {
     "data": {
      "text/plain": [
       "\"\\nfor ig in range(len(imgs)):\\n    image= load_img(imgs[ig])\\n    for k in range(30):\\n        path = 'image/my_image/'+folder[ig]+str(k)\\n        transformed_img = train_transeforms(image= image)['image']     \\n        print(path)\\n   \""
      ]
     },
     "execution_count": 26,
     "metadata": {},
     "output_type": "execute_result"
    }
   ],
   "source": [
    "folder = os.listdir('image/')\n",
    "imgs = glob('image/*/*.png')\n",
    "image= load_img(imgs[0])\n",
    "transformed_img = train_transeforms(image= image)['image']  \n",
    "comparison(image)\n",
    "\"\"\"\n",
    "for ig in range(len(imgs)):\n",
    "    image= load_img(imgs[ig])\n",
    "    for k in range(30):\n",
    "        path = 'image/my_image/'+folder[ig]+str(k)\n",
    "        transformed_img = train_transeforms(image= image)['image']     \n",
    "        print(path)\n",
    "   \"\"\"     "
   ]
  }
 ],
 "metadata": {
  "kernelspec": {
   "display_name": "ml",
   "language": "python",
   "name": "ml"
  },
  "language_info": {
   "codemirror_mode": {
    "name": "ipython",
    "version": 3
   },
   "file_extension": ".py",
   "mimetype": "text/x-python",
   "name": "python",
   "nbconvert_exporter": "python",
   "pygments_lexer": "ipython3",
   "version": "3.10.8"
  },
  "vscode": {
   "interpreter": {
    "hash": "04cfcb015756b0468d453661402e0dd59fe0b42ab146f16a600f56f5a8960998"
   }
  }
 },
 "nbformat": 4,
 "nbformat_minor": 5
}
