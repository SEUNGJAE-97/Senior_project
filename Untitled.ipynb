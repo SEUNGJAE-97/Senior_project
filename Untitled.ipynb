{
 "cells": [
  {
   "cell_type": "markdown",
   "metadata": {},
   "source": [
    "# 데이터셋 준비"
   ]
  },
  {
   "cell_type": "code",
   "execution_count": 2,
   "metadata": {},
   "outputs": [],
   "source": [
    "import cv2\n",
    "import numpy as np\n",
    "import pandas as pd\n",
    "\n",
    "from glob import glob\n",
    "\n",
    "import matplotlib.pyplot as plt"
   ]
  },
  {
   "cell_type": "code",
   "execution_count": 3,
   "metadata": {},
   "outputs": [],
   "source": [
    "# image/my_image/아래의 모든 파일 을 imgs로 저장\n",
    "imgs = glob('image/*/*.png')"
   ]
  },
  {
   "cell_type": "code",
   "execution_count": 4,
   "metadata": {},
   "outputs": [
    {
     "data": {
      "text/plain": [
       "['image\\\\198701126\\\\198701126_0.png',\n",
       " 'image\\\\198701126\\\\198701126_1.png',\n",
       " 'image\\\\198801248\\\\198801248_0.png',\n",
       " 'image\\\\198801248\\\\198801248_1.png',\n",
       " 'image\\\\198801534\\\\198801534_0.png',\n",
       " 'image\\\\198801534\\\\198801534_1.png',\n",
       " 'image\\\\198801657\\\\198801657_0.png',\n",
       " 'image\\\\198801657\\\\198801657_1.png',\n",
       " 'image\\\\198901340\\\\198901340_0.png',\n",
       " 'image\\\\198901340\\\\198901340_1.png',\n",
       " 'image\\\\199001505\\\\199001505_0.png',\n",
       " 'image\\\\199001505\\\\199001505_1.png',\n",
       " 'image\\\\199101702\\\\199101702_0.png',\n",
       " 'image\\\\199101702\\\\199101702_1.png',\n",
       " 'image\\\\199301551\\\\199301551_0.png',\n",
       " 'image\\\\199301551\\\\199301551_1.png',\n",
       " 'image\\\\199401319\\\\199401319_0.png',\n",
       " 'image\\\\199401319\\\\199401319_1.png',\n",
       " 'image\\\\199501306\\\\199501306_0.png',\n",
       " 'image\\\\199501306\\\\199501306_1.png',\n",
       " 'image\\\\199601642\\\\199601642_0.png',\n",
       " 'image\\\\199601642\\\\199601642_1.png',\n",
       " 'image\\\\199601724\\\\199601724_0.png',\n",
       " 'image\\\\199601724\\\\199601724_1.png',\n",
       " 'image\\\\199701845\\\\199701845_0.png',\n",
       " 'image\\\\199701845\\\\199701845_1.png',\n",
       " 'image\\\\199701895\\\\199701895_0.png',\n",
       " 'image\\\\199701895\\\\199701895_1.png',\n",
       " 'image\\\\199801389\\\\199801389_0.png',\n",
       " 'image\\\\199801389\\\\199801389_1.png',\n",
       " 'image\\\\199801580\\\\199801580_1.png',\n",
       " 'image\\\\199801580\\\\199801580_2.png',\n",
       " 'image\\\\199801651\\\\199801651_0.png',\n",
       " 'image\\\\199801651\\\\199801651_1.png',\n",
       " 'image\\\\199801826\\\\199801826_0.png',\n",
       " 'image\\\\199801826\\\\199801826_1.png',\n",
       " 'image\\\\199801864\\\\199801864_0.png',\n",
       " 'image\\\\199801864\\\\199801864_1.png',\n",
       " 'image\\\\199801880\\\\199801880_0.png',\n",
       " 'image\\\\199801880\\\\199801880_1.png',\n",
       " 'image\\\\199801882\\\\199801882_0.png',\n",
       " 'image\\\\199801882\\\\199801882_1.png',\n",
       " 'image\\\\199901577\\\\199901577_0.png',\n",
       " 'image\\\\199901577\\\\199901577_1.png',\n",
       " 'image\\\\199901764\\\\199901764_0.png',\n",
       " 'image\\\\199901764\\\\199901764_1.png',\n",
       " 'image\\\\199901886\\\\199901886_0.png',\n",
       " 'image\\\\199901886\\\\199901886_1.png',\n",
       " 'image\\\\199901915\\\\199901915_0.png',\n",
       " 'image\\\\199901915\\\\199901915_1.png',\n",
       " 'image\\\\199906848\\\\199906848_0.png',\n",
       " 'image\\\\199906848\\\\199906848_1.png',\n",
       " 'image\\\\200108428\\\\200108428_0.png',\n",
       " 'image\\\\200108428\\\\200108428_1.png',\n",
       " 'image\\\\200201717\\\\200201717_0.png',\n",
       " 'image\\\\200201717\\\\200201717_1.png',\n",
       " 'image\\\\200301465\\\\200301465_0.png',\n",
       " 'image\\\\200301465\\\\200301465_1.png',\n",
       " 'image\\\\200401859\\\\200401859_0.png',\n",
       " 'image\\\\200401859\\\\200401859_1.png',\n",
       " 'image\\\\200907782\\\\200907782_0.png',\n",
       " 'image\\\\200907782\\\\200907782_1.png',\n",
       " 'image\\\\200907817\\\\200907817_2.png',\n",
       " 'image\\\\200907817\\\\200907817_3.png',\n",
       " 'image\\\\200908266\\\\200908266_1.png',\n",
       " 'image\\\\200908444\\\\200908444_1.png',\n",
       " 'image\\\\200908499\\\\200908499_4.png',\n",
       " 'image\\\\200908500\\\\200908500_4.png',\n",
       " 'image\\\\200908862\\\\200908862_1.png',\n",
       " 'image\\\\200908953\\\\200908953_1.png',\n",
       " 'image\\\\201000163\\\\201000163_1.png',\n",
       " 'image\\\\201000674\\\\201000674_0.png',\n",
       " 'image\\\\201101253\\\\201101253_1.png',\n",
       " 'image\\\\201101451\\\\201101451_1.png',\n",
       " 'image\\\\201101491\\\\201101491_0.png',\n",
       " 'image\\\\201101491\\\\201101491_1.png',\n",
       " 'image\\\\201101508\\\\201101508_1.png',\n",
       " 'image\\\\201101576\\\\201101576_1.png',\n",
       " 'image\\\\201101585\\\\201101585_0.png',\n",
       " 'image\\\\201101857\\\\201101857_1.png',\n",
       " 'image\\\\201101885\\\\201101885_0.png',\n",
       " 'image\\\\201101885\\\\201101885_1.png',\n",
       " 'image\\\\201102120\\\\201102120_1.png',\n",
       " 'image\\\\201102470\\\\201102470_5.png',\n",
       " 'image\\\\201102473\\\\201102473_1.png',\n",
       " 'image\\\\201102545\\\\201102545_0.png',\n",
       " 'image\\\\201102546\\\\201102546_0.png',\n",
       " 'image\\\\201102618\\\\201102618_1.png',\n",
       " 'image\\\\201103116\\\\201103116_4.png',\n",
       " 'image\\\\201103161\\\\201103161_0.png',\n",
       " 'image\\\\201103161\\\\201103161_1.png',\n",
       " 'image\\\\201103214\\\\201103214_1.png',\n",
       " 'image\\\\201103214\\\\201103214_2.png',\n",
       " 'image\\\\201103297\\\\201103297_2.png',\n",
       " 'image\\\\201103297\\\\201103297_3.png',\n",
       " 'image\\\\201103308\\\\201103308_3.png',\n",
       " 'image\\\\201103308\\\\201103308_4.png',\n",
       " 'image\\\\201103309\\\\201103309_0.png',\n",
       " 'image\\\\201103309\\\\201103309_1.png',\n",
       " 'image\\\\201103366\\\\201103366_0.png',\n",
       " 'image\\\\201103449\\\\201103449_0.png',\n",
       " 'image\\\\201103449\\\\201103449_1.png',\n",
       " 'image\\\\201105511\\\\201105511_0.png',\n",
       " 'image\\\\201105511\\\\201105511_1.png',\n",
       " 'image\\\\201105613\\\\201105613_0.png',\n",
       " 'image\\\\201105613\\\\201105613_1.png',\n",
       " 'image\\\\201105697\\\\201105697_0.png',\n",
       " 'image\\\\201105697\\\\201105697_1.png',\n",
       " 'image\\\\201105818\\\\201105818_0.png',\n",
       " 'image\\\\201105818\\\\201105818_1.png',\n",
       " 'image\\\\201105914\\\\201105914_0.png',\n",
       " 'image\\\\201105914\\\\201105914_1.png',\n",
       " 'image\\\\201105915\\\\201105915_0.png',\n",
       " 'image\\\\201105915\\\\201105915_1.png',\n",
       " 'image\\\\201106062\\\\201106062_7.png',\n",
       " 'image\\\\201106063\\\\201106063_5.png',\n",
       " 'image\\\\201106314\\\\201106314_1.png',\n",
       " 'image\\\\201106322\\\\201106322_3.png',\n",
       " 'image\\\\201106367\\\\201106367_0.png',\n",
       " 'image\\\\201106367\\\\201106367_1.png',\n",
       " 'image\\\\201106371\\\\201106371_0.png',\n",
       " 'image\\\\201106371\\\\201106371_1.png',\n",
       " 'image\\\\201106770\\\\201106770_22.png',\n",
       " 'image\\\\201106770\\\\201106770_23.png',\n",
       " 'image\\\\201109259\\\\201109259_0.png',\n",
       " 'image\\\\201109259\\\\201109259_1.png',\n",
       " 'image\\\\201109329\\\\201109329_1.png',\n",
       " 'image\\\\201109333\\\\201109333_1.png',\n",
       " 'image\\\\201109335\\\\201109335_0.png',\n",
       " 'image\\\\201109335\\\\201109335_1.png',\n",
       " 'image\\\\201109431\\\\201109431_0.png',\n",
       " 'image\\\\201109431\\\\201109431_1.png',\n",
       " 'image\\\\201109435\\\\201109435_0.png',\n",
       " 'image\\\\201109442\\\\201109442_0.png',\n",
       " 'image\\\\201109442\\\\201109442_1.png',\n",
       " 'image\\\\201109596\\\\201109596_0.png',\n",
       " 'image\\\\201109596\\\\201109596_1.png',\n",
       " 'image\\\\201109826\\\\201109826_0.png',\n",
       " 'image\\\\201109826\\\\201109826_1.png',\n",
       " 'image\\\\201109827\\\\201109827_0.png',\n",
       " 'image\\\\201109827\\\\201109827_1.png',\n",
       " 'image\\\\201109900\\\\201109900_0.png',\n",
       " 'image\\\\201109900\\\\201109900_1.png',\n",
       " 'image\\\\201110104\\\\201110104_0.png',\n",
       " 'image\\\\201110104\\\\201110104_1.png',\n",
       " 'image\\\\201110105\\\\201110105_2.png',\n",
       " 'image\\\\201110105\\\\201110105_3.png',\n",
       " 'image\\\\201110123\\\\201110123_2.png',\n",
       " 'image\\\\201110192\\\\201110192_1.png',\n",
       " 'image\\\\201110192\\\\201110192_2.png',\n",
       " 'image\\\\201110262\\\\201110262_3.png',\n",
       " 'image\\\\201110262\\\\201110262_4.png',\n",
       " 'image\\\\201110452\\\\201110452_0.png',\n",
       " 'image\\\\201110452\\\\201110452_1.png',\n",
       " 'image\\\\201110467\\\\201110467_0.png',\n",
       " 'image\\\\201110467\\\\201110467_1.png',\n",
       " 'image\\\\201110513\\\\201110513_0.png',\n",
       " 'image\\\\201110513\\\\201110513_1.png',\n",
       " 'image\\\\201110661\\\\201110661_0.png',\n",
       " 'image\\\\201110661\\\\201110661_1.png',\n",
       " 'image\\\\201110739\\\\201110739_0.png',\n",
       " 'image\\\\201110739\\\\201110739_1.png',\n",
       " 'image\\\\201110747\\\\201110747_4.png',\n",
       " 'image\\\\201110830\\\\201110830_1.png',\n",
       " 'image\\\\201111087\\\\201111087_0.png',\n",
       " 'image\\\\201112195\\\\201112195_1.png',\n",
       " 'image\\\\201200120\\\\201200120_4.png',\n",
       " 'image\\\\201206445\\\\201206445_3.png',\n",
       " 'image\\\\201206445\\\\201206445_4.png',\n",
       " 'image\\\\201206484\\\\201206484_6.png',\n",
       " 'image\\\\201206525\\\\201206525_4.png',\n",
       " 'image\\\\201206525\\\\201206525_5.png',\n",
       " 'image\\\\201206552\\\\201206552_3.png',\n",
       " 'image\\\\201206552\\\\201206552_4.png',\n",
       " 'image\\\\201206553\\\\201206553_3.png',\n",
       " 'image\\\\201206553\\\\201206553_4.png',\n",
       " 'image\\\\201206575\\\\201206575_0.png',\n",
       " 'image\\\\201206575\\\\201206575_1.png',\n",
       " 'image\\\\201206592\\\\201206592_0.png',\n",
       " 'image\\\\201206592\\\\201206592_1.png',\n",
       " 'image\\\\201206776\\\\201206776_3.png',\n",
       " 'image\\\\201206776\\\\201206776_4.png',\n",
       " 'image\\\\201206781\\\\201206781_4.png',\n",
       " 'image\\\\201206828\\\\201206828_0.png',\n",
       " 'image\\\\201206828\\\\201206828_1.png',\n",
       " 'image\\\\201206871\\\\201206871_3.png',\n",
       " 'image\\\\201206871\\\\201206871_4.png',\n",
       " 'image\\\\201206916\\\\201206916_5.png',\n",
       " 'image\\\\201206997\\\\201206997_1.png',\n",
       " 'image\\\\201206997\\\\201206997_2.png',\n",
       " 'image\\\\201206998\\\\201206998_4.png',\n",
       " 'image\\\\201206998\\\\201206998_5.png',\n",
       " 'image\\\\201207011\\\\201207011_3.png',\n",
       " 'image\\\\201207011\\\\201207011_4.png',\n",
       " 'image\\\\201207054\\\\201207054_0.png',\n",
       " 'image\\\\201207054\\\\201207054_1.png',\n",
       " 'image\\\\201207068\\\\201207068_4.png',\n",
       " 'image\\\\201207068\\\\201207068_5.png',\n",
       " 'image\\\\201207104\\\\201207104_4.png',\n",
       " 'image\\\\201207104\\\\201207104_5.png',\n",
       " 'image\\\\201207105\\\\201207105_4.png',\n",
       " 'image\\\\201207105\\\\201207105_5.png',\n",
       " 'image\\\\201207237\\\\201207237_0.png',\n",
       " 'image\\\\201207237\\\\201207237_1.png',\n",
       " 'image\\\\201207343\\\\201207343_3.png',\n",
       " 'image\\\\201207343\\\\201207343_4.png',\n",
       " 'image\\\\201207344\\\\201207344_4.png',\n",
       " 'image\\\\201207415\\\\201207415_0.png',\n",
       " 'image\\\\201207415\\\\201207415_1.png',\n",
       " 'image\\\\201207487\\\\201207487_4.png',\n",
       " 'image\\\\201207490\\\\201207490_0.png',\n",
       " 'image\\\\201207490\\\\201207490_1.png',\n",
       " 'image\\\\201207507\\\\201207507_3.png',\n",
       " 'image\\\\201207507\\\\201207507_4.png',\n",
       " 'image\\\\201210185\\\\201210185_3.png',\n",
       " 'image\\\\201210185\\\\201210185_4.png',\n",
       " 'image\\\\201210189\\\\201210189_7.png',\n",
       " 'image\\\\201210189\\\\201210189_8.png',\n",
       " 'image\\\\201210739\\\\201210739_0.png',\n",
       " 'image\\\\201210739\\\\201210739_1.png',\n",
       " 'image\\\\201211056\\\\201211056_0.png',\n",
       " 'image\\\\201211056\\\\201211056_1.png',\n",
       " 'image\\\\201211098\\\\201211098_0.png',\n",
       " 'image\\\\201211098\\\\201211098_1.png',\n",
       " 'image\\\\201300020\\\\201300020_1.png',\n",
       " 'image\\\\201300035\\\\201300035_1.png',\n",
       " 'image\\\\201300036\\\\201300036_1.png',\n",
       " 'image\\\\201300049\\\\201300049_4.png',\n",
       " 'image\\\\201300049\\\\201300049_5.png',\n",
       " 'image\\\\201300109\\\\201300109_2.png',\n",
       " 'image\\\\201300109\\\\201300109_3.png',\n",
       " 'image\\\\201300127\\\\201300127_3.png',\n",
       " 'image\\\\201300127\\\\201300127_4.png',\n",
       " 'image\\\\201301235\\\\201301235_0.png',\n",
       " 'image\\\\201301235\\\\201301235_1.png',\n",
       " 'image\\\\201301370\\\\201301370_1.png',\n",
       " 'image\\\\201301370\\\\201301370_2.png',\n",
       " 'image\\\\201301376\\\\201301376_0.png',\n",
       " 'image\\\\201301376\\\\201301376_1.png',\n",
       " 'image\\\\201301655\\\\201301655_1.png']"
      ]
     },
     "execution_count": 4,
     "metadata": {},
     "output_type": "execute_result"
    }
   ],
   "source": [
    "imgs"
   ]
  },
  {
   "cell_type": "code",
   "execution_count": 5,
   "metadata": {},
   "outputs": [],
   "source": [
    "alyac_name = set()"
   ]
  },
  {
   "cell_type": "code",
   "execution_count": 6,
   "metadata": {},
   "outputs": [],
   "source": [
    "y = []\n",
    "x = []\n",
    "for i in imgs:\n",
    "    img = plt.imread(i)\n",
    "    name = i.split('\\\\')[1]\n",
    "    img_resize = cv2.resize(img,dsize=[200,200],interpolation=cv2.INTER_LINEAR)\n",
    "    \n",
    "    y.append(name)\n",
    "    x.append(img_resize)\n",
    "    alyac_name.add(name)\n",
    " #   print(img.shape)\n",
    "#    print(img_resize.shape)\n",
    "yy = pd.get_dummies(y)\n",
    "x = np.asarray(x)\n",
    "y = np.asarray(yy)"
   ]
  },
  {
   "cell_type": "code",
   "execution_count": 7,
   "metadata": {},
   "outputs": [
    {
     "data": {
      "text/plain": [
       "(240, 200, 200, 3)"
      ]
     },
     "execution_count": 7,
     "metadata": {},
     "output_type": "execute_result"
    }
   ],
   "source": [
    "x.shape\n"
   ]
  },
  {
   "cell_type": "markdown",
   "metadata": {},
   "source": [
    "# 모델링"
   ]
  },
  {
   "cell_type": "code",
   "execution_count": 8,
   "metadata": {},
   "outputs": [],
   "source": [
    "import tensorflow as tf\n",
    "import tensorflow.keras.layers as tl\n",
    "from tensorflow.keras.models import Sequential"
   ]
  },
  {
   "cell_type": "code",
   "execution_count": 9,
   "metadata": {},
   "outputs": [],
   "source": [
    "model = Sequential()"
   ]
  },
  {
   "cell_type": "code",
   "execution_count": 10,
   "metadata": {},
   "outputs": [],
   "source": [
    "model.add(tl.Conv2D(16,kernel_size=(3,3),input_shape=(200,200,3)))\n",
    "model.add(tl.Conv2D(32,kernel_size=(3,3)))\n",
    "model.add(tl.Conv2D(64,kernel_size=(3,3)))\n",
    "model.add(tl.Flatten())\n",
    "model.add(tl.Dense(64,activation='relu'))\n",
    "model.add(tl.Dense(32,activation='relu'))\n",
    "model.add(tl.Dense(2,activation='softmax'))\n"
   ]
  },
  {
   "cell_type": "code",
   "execution_count": 11,
   "metadata": {},
   "outputs": [],
   "source": [
    "model.compile('adam','categorical_crossentropy','accuracy')"
   ]
  },
  {
   "cell_type": "code",
   "execution_count": 12,
   "metadata": {},
   "outputs": [
    {
     "data": {
      "text/plain": [
       "((240, 200, 200, 3), (240, 142))"
      ]
     },
     "execution_count": 12,
     "metadata": {},
     "output_type": "execute_result"
    }
   ],
   "source": [
    "x.shape , y.shape"
   ]
  },
  {
   "cell_type": "markdown",
   "metadata": {},
   "source": [
    "### x.shape = (3000,200,200,3) y.shape  = (3000,100)"
   ]
  },
  {
   "cell_type": "code",
   "execution_count": 14,
   "metadata": {},
   "outputs": [
    {
     "name": "stdout",
     "output_type": "stream",
     "text": [
      "Epoch 1/100\n"
     ]
    },
    {
     "ename": "ValueError",
     "evalue": "in user code:\n\n    File \"C:\\Users\\hsj\\anaconda3\\lib\\site-packages\\keras\\engine\\training.py\", line 1249, in train_function  *\n        return step_function(self, iterator)\n    File \"C:\\Users\\hsj\\anaconda3\\lib\\site-packages\\keras\\engine\\training.py\", line 1233, in step_function  **\n        outputs = model.distribute_strategy.run(run_step, args=(data,))\n    File \"C:\\Users\\hsj\\anaconda3\\lib\\site-packages\\keras\\engine\\training.py\", line 1222, in run_step  **\n        outputs = model.train_step(data)\n    File \"C:\\Users\\hsj\\anaconda3\\lib\\site-packages\\keras\\engine\\training.py\", line 1024, in train_step\n        loss = self.compute_loss(x, y, y_pred, sample_weight)\n    File \"C:\\Users\\hsj\\anaconda3\\lib\\site-packages\\keras\\engine\\training.py\", line 1082, in compute_loss\n        return self.compiled_loss(\n    File \"C:\\Users\\hsj\\anaconda3\\lib\\site-packages\\keras\\engine\\compile_utils.py\", line 265, in __call__\n        loss_value = loss_obj(y_t, y_p, sample_weight=sw)\n    File \"C:\\Users\\hsj\\anaconda3\\lib\\site-packages\\keras\\losses.py\", line 152, in __call__\n        losses = call_fn(y_true, y_pred)\n    File \"C:\\Users\\hsj\\anaconda3\\lib\\site-packages\\keras\\losses.py\", line 284, in call  **\n        return ag_fn(y_true, y_pred, **self._fn_kwargs)\n    File \"C:\\Users\\hsj\\anaconda3\\lib\\site-packages\\keras\\losses.py\", line 2004, in categorical_crossentropy\n        return backend.categorical_crossentropy(\n    File \"C:\\Users\\hsj\\anaconda3\\lib\\site-packages\\keras\\backend.py\", line 5532, in categorical_crossentropy\n        target.shape.assert_is_compatible_with(output.shape)\n\n    ValueError: Shapes (None, 142) and (None, 2) are incompatible\n",
     "output_type": "error",
     "traceback": [
      "\u001b[1;31m---------------------------------------------------------------------------\u001b[0m",
      "\u001b[1;31mValueError\u001b[0m                                Traceback (most recent call last)",
      "\u001b[1;32m~\\AppData\\Local\\Temp\\ipykernel_24652\\4218836971.py\u001b[0m in \u001b[0;36m<module>\u001b[1;34m\u001b[0m\n\u001b[1;32m----> 1\u001b[1;33m \u001b[0mModel\u001b[0m \u001b[1;33m=\u001b[0m \u001b[0mmodel\u001b[0m\u001b[1;33m.\u001b[0m\u001b[0mfit\u001b[0m\u001b[1;33m(\u001b[0m\u001b[0mx\u001b[0m\u001b[1;33m,\u001b[0m\u001b[0my\u001b[0m\u001b[1;33m,\u001b[0m\u001b[0mbatch_size\u001b[0m\u001b[1;33m=\u001b[0m\u001b[1;36m32\u001b[0m\u001b[1;33m,\u001b[0m\u001b[0mepochs\u001b[0m\u001b[1;33m=\u001b[0m\u001b[1;36m100\u001b[0m\u001b[1;33m)\u001b[0m\u001b[1;33m\u001b[0m\u001b[1;33m\u001b[0m\u001b[0m\n\u001b[0m",
      "\u001b[1;32m~\\anaconda3\\lib\\site-packages\\keras\\utils\\traceback_utils.py\u001b[0m in \u001b[0;36merror_handler\u001b[1;34m(*args, **kwargs)\u001b[0m\n\u001b[0;32m     68\u001b[0m             \u001b[1;31m# To get the full stack trace, call:\u001b[0m\u001b[1;33m\u001b[0m\u001b[1;33m\u001b[0m\u001b[0m\n\u001b[0;32m     69\u001b[0m             \u001b[1;31m# `tf.debugging.disable_traceback_filtering()`\u001b[0m\u001b[1;33m\u001b[0m\u001b[1;33m\u001b[0m\u001b[0m\n\u001b[1;32m---> 70\u001b[1;33m             \u001b[1;32mraise\u001b[0m \u001b[0me\u001b[0m\u001b[1;33m.\u001b[0m\u001b[0mwith_traceback\u001b[0m\u001b[1;33m(\u001b[0m\u001b[0mfiltered_tb\u001b[0m\u001b[1;33m)\u001b[0m \u001b[1;32mfrom\u001b[0m \u001b[1;32mNone\u001b[0m\u001b[1;33m\u001b[0m\u001b[1;33m\u001b[0m\u001b[0m\n\u001b[0m\u001b[0;32m     71\u001b[0m         \u001b[1;32mfinally\u001b[0m\u001b[1;33m:\u001b[0m\u001b[1;33m\u001b[0m\u001b[1;33m\u001b[0m\u001b[0m\n\u001b[0;32m     72\u001b[0m             \u001b[1;32mdel\u001b[0m \u001b[0mfiltered_tb\u001b[0m\u001b[1;33m\u001b[0m\u001b[1;33m\u001b[0m\u001b[0m\n",
      "\u001b[1;32m~\\anaconda3\\lib\\site-packages\\keras\\engine\\training.py\u001b[0m in \u001b[0;36mtf__train_function\u001b[1;34m(iterator)\u001b[0m\n\u001b[0;32m     13\u001b[0m                 \u001b[1;32mtry\u001b[0m\u001b[1;33m:\u001b[0m\u001b[1;33m\u001b[0m\u001b[1;33m\u001b[0m\u001b[0m\n\u001b[0;32m     14\u001b[0m                     \u001b[0mdo_return\u001b[0m \u001b[1;33m=\u001b[0m \u001b[1;32mTrue\u001b[0m\u001b[1;33m\u001b[0m\u001b[1;33m\u001b[0m\u001b[0m\n\u001b[1;32m---> 15\u001b[1;33m                     \u001b[0mretval_\u001b[0m \u001b[1;33m=\u001b[0m \u001b[0mag__\u001b[0m\u001b[1;33m.\u001b[0m\u001b[0mconverted_call\u001b[0m\u001b[1;33m(\u001b[0m\u001b[0mag__\u001b[0m\u001b[1;33m.\u001b[0m\u001b[0mld\u001b[0m\u001b[1;33m(\u001b[0m\u001b[0mstep_function\u001b[0m\u001b[1;33m)\u001b[0m\u001b[1;33m,\u001b[0m \u001b[1;33m(\u001b[0m\u001b[0mag__\u001b[0m\u001b[1;33m.\u001b[0m\u001b[0mld\u001b[0m\u001b[1;33m(\u001b[0m\u001b[0mself\u001b[0m\u001b[1;33m)\u001b[0m\u001b[1;33m,\u001b[0m \u001b[0mag__\u001b[0m\u001b[1;33m.\u001b[0m\u001b[0mld\u001b[0m\u001b[1;33m(\u001b[0m\u001b[0miterator\u001b[0m\u001b[1;33m)\u001b[0m\u001b[1;33m)\u001b[0m\u001b[1;33m,\u001b[0m \u001b[1;32mNone\u001b[0m\u001b[1;33m,\u001b[0m \u001b[0mfscope\u001b[0m\u001b[1;33m)\u001b[0m\u001b[1;33m\u001b[0m\u001b[1;33m\u001b[0m\u001b[0m\n\u001b[0m\u001b[0;32m     16\u001b[0m                 \u001b[1;32mexcept\u001b[0m\u001b[1;33m:\u001b[0m\u001b[1;33m\u001b[0m\u001b[1;33m\u001b[0m\u001b[0m\n\u001b[0;32m     17\u001b[0m                     \u001b[0mdo_return\u001b[0m \u001b[1;33m=\u001b[0m \u001b[1;32mFalse\u001b[0m\u001b[1;33m\u001b[0m\u001b[1;33m\u001b[0m\u001b[0m\n",
      "\u001b[1;31mValueError\u001b[0m: in user code:\n\n    File \"C:\\Users\\hsj\\anaconda3\\lib\\site-packages\\keras\\engine\\training.py\", line 1249, in train_function  *\n        return step_function(self, iterator)\n    File \"C:\\Users\\hsj\\anaconda3\\lib\\site-packages\\keras\\engine\\training.py\", line 1233, in step_function  **\n        outputs = model.distribute_strategy.run(run_step, args=(data,))\n    File \"C:\\Users\\hsj\\anaconda3\\lib\\site-packages\\keras\\engine\\training.py\", line 1222, in run_step  **\n        outputs = model.train_step(data)\n    File \"C:\\Users\\hsj\\anaconda3\\lib\\site-packages\\keras\\engine\\training.py\", line 1024, in train_step\n        loss = self.compute_loss(x, y, y_pred, sample_weight)\n    File \"C:\\Users\\hsj\\anaconda3\\lib\\site-packages\\keras\\engine\\training.py\", line 1082, in compute_loss\n        return self.compiled_loss(\n    File \"C:\\Users\\hsj\\anaconda3\\lib\\site-packages\\keras\\engine\\compile_utils.py\", line 265, in __call__\n        loss_value = loss_obj(y_t, y_p, sample_weight=sw)\n    File \"C:\\Users\\hsj\\anaconda3\\lib\\site-packages\\keras\\losses.py\", line 152, in __call__\n        losses = call_fn(y_true, y_pred)\n    File \"C:\\Users\\hsj\\anaconda3\\lib\\site-packages\\keras\\losses.py\", line 284, in call  **\n        return ag_fn(y_true, y_pred, **self._fn_kwargs)\n    File \"C:\\Users\\hsj\\anaconda3\\lib\\site-packages\\keras\\losses.py\", line 2004, in categorical_crossentropy\n        return backend.categorical_crossentropy(\n    File \"C:\\Users\\hsj\\anaconda3\\lib\\site-packages\\keras\\backend.py\", line 5532, in categorical_crossentropy\n        target.shape.assert_is_compatible_with(output.shape)\n\n    ValueError: Shapes (None, 142) and (None, 2) are incompatible\n"
     ]
    }
   ],
   "source": [
    "Model = model.fit(x,y,batch_size=32,epochs=100)"
   ]
  },
  {
   "cell_type": "code",
   "execution_count": 15,
   "metadata": {},
   "outputs": [],
   "source": [
    "test_image = 0# 테스트 이미지"
   ]
  },
  {
   "cell_type": "code",
   "execution_count": 16,
   "metadata": {},
   "outputs": [
    {
     "ename": "TypeError",
     "evalue": "Invalid shape () for image data",
     "output_type": "error",
     "traceback": [
      "\u001b[1;31m---------------------------------------------------------------------------\u001b[0m",
      "\u001b[1;31mTypeError\u001b[0m                                 Traceback (most recent call last)",
      "\u001b[1;32m~\\AppData\\Local\\Temp\\ipykernel_24652\\2454861475.py\u001b[0m in \u001b[0;36m<module>\u001b[1;34m\u001b[0m\n\u001b[1;32m----> 1\u001b[1;33m \u001b[0mplt\u001b[0m\u001b[1;33m.\u001b[0m\u001b[0mimshow\u001b[0m\u001b[1;33m(\u001b[0m\u001b[0mtest_image\u001b[0m\u001b[1;33m)\u001b[0m\u001b[1;33m\u001b[0m\u001b[1;33m\u001b[0m\u001b[0m\n\u001b[0m",
      "\u001b[1;32m~\\anaconda3\\lib\\site-packages\\matplotlib\\_api\\deprecation.py\u001b[0m in \u001b[0;36mwrapper\u001b[1;34m(*args, **kwargs)\u001b[0m\n\u001b[0;32m    457\u001b[0m                 \u001b[1;34m\"parameter will become keyword-only %(removal)s.\"\u001b[0m\u001b[1;33m,\u001b[0m\u001b[1;33m\u001b[0m\u001b[1;33m\u001b[0m\u001b[0m\n\u001b[0;32m    458\u001b[0m                 name=name, obj_type=f\"parameter of {func.__name__}()\")\n\u001b[1;32m--> 459\u001b[1;33m         \u001b[1;32mreturn\u001b[0m \u001b[0mfunc\u001b[0m\u001b[1;33m(\u001b[0m\u001b[1;33m*\u001b[0m\u001b[0margs\u001b[0m\u001b[1;33m,\u001b[0m \u001b[1;33m**\u001b[0m\u001b[0mkwargs\u001b[0m\u001b[1;33m)\u001b[0m\u001b[1;33m\u001b[0m\u001b[1;33m\u001b[0m\u001b[0m\n\u001b[0m\u001b[0;32m    460\u001b[0m \u001b[1;33m\u001b[0m\u001b[0m\n\u001b[0;32m    461\u001b[0m     \u001b[1;31m# Don't modify *func*'s signature, as boilerplate.py needs it.\u001b[0m\u001b[1;33m\u001b[0m\u001b[1;33m\u001b[0m\u001b[0m\n",
      "\u001b[1;32m~\\anaconda3\\lib\\site-packages\\matplotlib\\pyplot.py\u001b[0m in \u001b[0;36mimshow\u001b[1;34m(X, cmap, norm, aspect, interpolation, alpha, vmin, vmax, origin, extent, interpolation_stage, filternorm, filterrad, resample, url, data, **kwargs)\u001b[0m\n\u001b[0;32m   2650\u001b[0m         \u001b[0minterpolation_stage\u001b[0m\u001b[1;33m=\u001b[0m\u001b[1;32mNone\u001b[0m\u001b[1;33m,\u001b[0m \u001b[0mfilternorm\u001b[0m\u001b[1;33m=\u001b[0m\u001b[1;32mTrue\u001b[0m\u001b[1;33m,\u001b[0m \u001b[0mfilterrad\u001b[0m\u001b[1;33m=\u001b[0m\u001b[1;36m4.0\u001b[0m\u001b[1;33m,\u001b[0m\u001b[1;33m\u001b[0m\u001b[1;33m\u001b[0m\u001b[0m\n\u001b[0;32m   2651\u001b[0m         resample=None, url=None, data=None, **kwargs):\n\u001b[1;32m-> 2652\u001b[1;33m     __ret = gca().imshow(\n\u001b[0m\u001b[0;32m   2653\u001b[0m         \u001b[0mX\u001b[0m\u001b[1;33m,\u001b[0m \u001b[0mcmap\u001b[0m\u001b[1;33m=\u001b[0m\u001b[0mcmap\u001b[0m\u001b[1;33m,\u001b[0m \u001b[0mnorm\u001b[0m\u001b[1;33m=\u001b[0m\u001b[0mnorm\u001b[0m\u001b[1;33m,\u001b[0m \u001b[0maspect\u001b[0m\u001b[1;33m=\u001b[0m\u001b[0maspect\u001b[0m\u001b[1;33m,\u001b[0m\u001b[1;33m\u001b[0m\u001b[1;33m\u001b[0m\u001b[0m\n\u001b[0;32m   2654\u001b[0m         \u001b[0minterpolation\u001b[0m\u001b[1;33m=\u001b[0m\u001b[0minterpolation\u001b[0m\u001b[1;33m,\u001b[0m \u001b[0malpha\u001b[0m\u001b[1;33m=\u001b[0m\u001b[0malpha\u001b[0m\u001b[1;33m,\u001b[0m \u001b[0mvmin\u001b[0m\u001b[1;33m=\u001b[0m\u001b[0mvmin\u001b[0m\u001b[1;33m,\u001b[0m\u001b[1;33m\u001b[0m\u001b[1;33m\u001b[0m\u001b[0m\n",
      "\u001b[1;32m~\\anaconda3\\lib\\site-packages\\matplotlib\\_api\\deprecation.py\u001b[0m in \u001b[0;36mwrapper\u001b[1;34m(*args, **kwargs)\u001b[0m\n\u001b[0;32m    457\u001b[0m                 \u001b[1;34m\"parameter will become keyword-only %(removal)s.\"\u001b[0m\u001b[1;33m,\u001b[0m\u001b[1;33m\u001b[0m\u001b[1;33m\u001b[0m\u001b[0m\n\u001b[0;32m    458\u001b[0m                 name=name, obj_type=f\"parameter of {func.__name__}()\")\n\u001b[1;32m--> 459\u001b[1;33m         \u001b[1;32mreturn\u001b[0m \u001b[0mfunc\u001b[0m\u001b[1;33m(\u001b[0m\u001b[1;33m*\u001b[0m\u001b[0margs\u001b[0m\u001b[1;33m,\u001b[0m \u001b[1;33m**\u001b[0m\u001b[0mkwargs\u001b[0m\u001b[1;33m)\u001b[0m\u001b[1;33m\u001b[0m\u001b[1;33m\u001b[0m\u001b[0m\n\u001b[0m\u001b[0;32m    460\u001b[0m \u001b[1;33m\u001b[0m\u001b[0m\n\u001b[0;32m    461\u001b[0m     \u001b[1;31m# Don't modify *func*'s signature, as boilerplate.py needs it.\u001b[0m\u001b[1;33m\u001b[0m\u001b[1;33m\u001b[0m\u001b[0m\n",
      "\u001b[1;32m~\\anaconda3\\lib\\site-packages\\matplotlib\\__init__.py\u001b[0m in \u001b[0;36minner\u001b[1;34m(ax, data, *args, **kwargs)\u001b[0m\n\u001b[0;32m   1410\u001b[0m     \u001b[1;32mdef\u001b[0m \u001b[0minner\u001b[0m\u001b[1;33m(\u001b[0m\u001b[0max\u001b[0m\u001b[1;33m,\u001b[0m \u001b[1;33m*\u001b[0m\u001b[0margs\u001b[0m\u001b[1;33m,\u001b[0m \u001b[0mdata\u001b[0m\u001b[1;33m=\u001b[0m\u001b[1;32mNone\u001b[0m\u001b[1;33m,\u001b[0m \u001b[1;33m**\u001b[0m\u001b[0mkwargs\u001b[0m\u001b[1;33m)\u001b[0m\u001b[1;33m:\u001b[0m\u001b[1;33m\u001b[0m\u001b[1;33m\u001b[0m\u001b[0m\n\u001b[0;32m   1411\u001b[0m         \u001b[1;32mif\u001b[0m \u001b[0mdata\u001b[0m \u001b[1;32mis\u001b[0m \u001b[1;32mNone\u001b[0m\u001b[1;33m:\u001b[0m\u001b[1;33m\u001b[0m\u001b[1;33m\u001b[0m\u001b[0m\n\u001b[1;32m-> 1412\u001b[1;33m             \u001b[1;32mreturn\u001b[0m \u001b[0mfunc\u001b[0m\u001b[1;33m(\u001b[0m\u001b[0max\u001b[0m\u001b[1;33m,\u001b[0m \u001b[1;33m*\u001b[0m\u001b[0mmap\u001b[0m\u001b[1;33m(\u001b[0m\u001b[0msanitize_sequence\u001b[0m\u001b[1;33m,\u001b[0m \u001b[0margs\u001b[0m\u001b[1;33m)\u001b[0m\u001b[1;33m,\u001b[0m \u001b[1;33m**\u001b[0m\u001b[0mkwargs\u001b[0m\u001b[1;33m)\u001b[0m\u001b[1;33m\u001b[0m\u001b[1;33m\u001b[0m\u001b[0m\n\u001b[0m\u001b[0;32m   1413\u001b[0m \u001b[1;33m\u001b[0m\u001b[0m\n\u001b[0;32m   1414\u001b[0m         \u001b[0mbound\u001b[0m \u001b[1;33m=\u001b[0m \u001b[0mnew_sig\u001b[0m\u001b[1;33m.\u001b[0m\u001b[0mbind\u001b[0m\u001b[1;33m(\u001b[0m\u001b[0max\u001b[0m\u001b[1;33m,\u001b[0m \u001b[1;33m*\u001b[0m\u001b[0margs\u001b[0m\u001b[1;33m,\u001b[0m \u001b[1;33m**\u001b[0m\u001b[0mkwargs\u001b[0m\u001b[1;33m)\u001b[0m\u001b[1;33m\u001b[0m\u001b[1;33m\u001b[0m\u001b[0m\n",
      "\u001b[1;32m~\\anaconda3\\lib\\site-packages\\matplotlib\\axes\\_axes.py\u001b[0m in \u001b[0;36mimshow\u001b[1;34m(self, X, cmap, norm, aspect, interpolation, alpha, vmin, vmax, origin, extent, interpolation_stage, filternorm, filterrad, resample, url, **kwargs)\u001b[0m\n\u001b[0;32m   5479\u001b[0m                               **kwargs)\n\u001b[0;32m   5480\u001b[0m \u001b[1;33m\u001b[0m\u001b[0m\n\u001b[1;32m-> 5481\u001b[1;33m         \u001b[0mim\u001b[0m\u001b[1;33m.\u001b[0m\u001b[0mset_data\u001b[0m\u001b[1;33m(\u001b[0m\u001b[0mX\u001b[0m\u001b[1;33m)\u001b[0m\u001b[1;33m\u001b[0m\u001b[1;33m\u001b[0m\u001b[0m\n\u001b[0m\u001b[0;32m   5482\u001b[0m         \u001b[0mim\u001b[0m\u001b[1;33m.\u001b[0m\u001b[0mset_alpha\u001b[0m\u001b[1;33m(\u001b[0m\u001b[0malpha\u001b[0m\u001b[1;33m)\u001b[0m\u001b[1;33m\u001b[0m\u001b[1;33m\u001b[0m\u001b[0m\n\u001b[0;32m   5483\u001b[0m         \u001b[1;32mif\u001b[0m \u001b[0mim\u001b[0m\u001b[1;33m.\u001b[0m\u001b[0mget_clip_path\u001b[0m\u001b[1;33m(\u001b[0m\u001b[1;33m)\u001b[0m \u001b[1;32mis\u001b[0m \u001b[1;32mNone\u001b[0m\u001b[1;33m:\u001b[0m\u001b[1;33m\u001b[0m\u001b[1;33m\u001b[0m\u001b[0m\n",
      "\u001b[1;32m~\\anaconda3\\lib\\site-packages\\matplotlib\\image.py\u001b[0m in \u001b[0;36mset_data\u001b[1;34m(self, A)\u001b[0m\n\u001b[0;32m    713\u001b[0m         if not (self._A.ndim == 2\n\u001b[0;32m    714\u001b[0m                 or self._A.ndim == 3 and self._A.shape[-1] in [3, 4]):\n\u001b[1;32m--> 715\u001b[1;33m             raise TypeError(\"Invalid shape {} for image data\"\n\u001b[0m\u001b[0;32m    716\u001b[0m                             .format(self._A.shape))\n\u001b[0;32m    717\u001b[0m \u001b[1;33m\u001b[0m\u001b[0m\n",
      "\u001b[1;31mTypeError\u001b[0m: Invalid shape () for image data"
     ]
    },
    {
     "data": {
      "image/png": "[encoded data removed]",
      "text/plain": [
       "<Figure size 640x480 with 1 Axes>"
      ]
     },
     "metadata": {},
     "output_type": "display_data"
    }
   ],
   "source": [
    "plt.imshow(test_image)"
   ]
  },
  {
   "cell_type": "code",
   "execution_count": 17,
   "metadata": {},
   "outputs": [],
   "source": [
    "test_image = np.expand_dims(test_image,axis=0)"
   ]
  },
  {
   "cell_type": "code",
   "execution_count": 18,
   "metadata": {},
   "outputs": [
    {
     "name": "stdout",
     "output_type": "stream",
     "text": [
      "WARNING:tensorflow:Model was constructed with shape (None, 200, 200, 3) for input KerasTensor(type_spec=TensorSpec(shape=(None, 200, 200, 3), dtype=tf.float32, name='conv2d_input'), name='conv2d_input', description=\"created by layer 'conv2d_input'\"), but it was called on an input with incompatible shape (None,).\n"
     ]
    },
    {
     "ename": "ValueError",
     "evalue": "in user code:\n\n    File \"C:\\Users\\hsj\\anaconda3\\lib\\site-packages\\keras\\engine\\training.py\", line 2137, in predict_function  *\n        return step_function(self, iterator)\n    File \"C:\\Users\\hsj\\anaconda3\\lib\\site-packages\\keras\\engine\\training.py\", line 2123, in step_function  **\n        outputs = model.distribute_strategy.run(run_step, args=(data,))\n    File \"C:\\Users\\hsj\\anaconda3\\lib\\site-packages\\keras\\engine\\training.py\", line 2111, in run_step  **\n        outputs = model.predict_step(data)\n    File \"C:\\Users\\hsj\\anaconda3\\lib\\site-packages\\keras\\engine\\training.py\", line 2079, in predict_step\n        return self(x, training=False)\n    File \"C:\\Users\\hsj\\anaconda3\\lib\\site-packages\\keras\\utils\\traceback_utils.py\", line 70, in error_handler\n        raise e.with_traceback(filtered_tb) from None\n    File \"C:\\Users\\hsj\\anaconda3\\lib\\site-packages\\keras\\engine\\input_spec.py\", line 250, in assert_input_compatibility\n        raise ValueError(\n\n    ValueError: Exception encountered when calling layer 'sequential' (type Sequential).\n    \n    Input 0 of layer \"conv2d\" is incompatible with the layer: expected min_ndim=4, found ndim=1. Full shape received: (None,)\n    \n    Call arguments received by layer 'sequential' (type Sequential):\n      • inputs=tf.Tensor(shape=(None,), dtype=int32)\n      • training=False\n      • mask=None\n",
     "output_type": "error",
     "traceback": [
      "\u001b[1;31m---------------------------------------------------------------------------\u001b[0m",
      "\u001b[1;31mValueError\u001b[0m                                Traceback (most recent call last)",
      "\u001b[1;32m~\\AppData\\Local\\Temp\\ipykernel_24652\\2269718632.py\u001b[0m in \u001b[0;36m<module>\u001b[1;34m\u001b[0m\n\u001b[1;32m----> 1\u001b[1;33m \u001b[0mresult\u001b[0m \u001b[1;33m=\u001b[0m \u001b[0mmodel\u001b[0m\u001b[1;33m.\u001b[0m\u001b[0mpredict\u001b[0m\u001b[1;33m(\u001b[0m\u001b[0mtest_image\u001b[0m\u001b[1;33m)\u001b[0m\u001b[1;33m[\u001b[0m\u001b[1;36m0\u001b[0m\u001b[1;33m]\u001b[0m\u001b[1;33m\u001b[0m\u001b[1;33m\u001b[0m\u001b[0m\n\u001b[0m",
      "\u001b[1;32m~\\anaconda3\\lib\\site-packages\\keras\\utils\\traceback_utils.py\u001b[0m in \u001b[0;36merror_handler\u001b[1;34m(*args, **kwargs)\u001b[0m\n\u001b[0;32m     68\u001b[0m             \u001b[1;31m# To get the full stack trace, call:\u001b[0m\u001b[1;33m\u001b[0m\u001b[1;33m\u001b[0m\u001b[0m\n\u001b[0;32m     69\u001b[0m             \u001b[1;31m# `tf.debugging.disable_traceback_filtering()`\u001b[0m\u001b[1;33m\u001b[0m\u001b[1;33m\u001b[0m\u001b[0m\n\u001b[1;32m---> 70\u001b[1;33m             \u001b[1;32mraise\u001b[0m \u001b[0me\u001b[0m\u001b[1;33m.\u001b[0m\u001b[0mwith_traceback\u001b[0m\u001b[1;33m(\u001b[0m\u001b[0mfiltered_tb\u001b[0m\u001b[1;33m)\u001b[0m \u001b[1;32mfrom\u001b[0m \u001b[1;32mNone\u001b[0m\u001b[1;33m\u001b[0m\u001b[1;33m\u001b[0m\u001b[0m\n\u001b[0m\u001b[0;32m     71\u001b[0m         \u001b[1;32mfinally\u001b[0m\u001b[1;33m:\u001b[0m\u001b[1;33m\u001b[0m\u001b[1;33m\u001b[0m\u001b[0m\n\u001b[0;32m     72\u001b[0m             \u001b[1;32mdel\u001b[0m \u001b[0mfiltered_tb\u001b[0m\u001b[1;33m\u001b[0m\u001b[1;33m\u001b[0m\u001b[0m\n",
      "\u001b[1;32m~\\anaconda3\\lib\\site-packages\\keras\\engine\\training.py\u001b[0m in \u001b[0;36mtf__predict_function\u001b[1;34m(iterator)\u001b[0m\n\u001b[0;32m     13\u001b[0m                 \u001b[1;32mtry\u001b[0m\u001b[1;33m:\u001b[0m\u001b[1;33m\u001b[0m\u001b[1;33m\u001b[0m\u001b[0m\n\u001b[0;32m     14\u001b[0m                     \u001b[0mdo_return\u001b[0m \u001b[1;33m=\u001b[0m \u001b[1;32mTrue\u001b[0m\u001b[1;33m\u001b[0m\u001b[1;33m\u001b[0m\u001b[0m\n\u001b[1;32m---> 15\u001b[1;33m                     \u001b[0mretval_\u001b[0m \u001b[1;33m=\u001b[0m \u001b[0mag__\u001b[0m\u001b[1;33m.\u001b[0m\u001b[0mconverted_call\u001b[0m\u001b[1;33m(\u001b[0m\u001b[0mag__\u001b[0m\u001b[1;33m.\u001b[0m\u001b[0mld\u001b[0m\u001b[1;33m(\u001b[0m\u001b[0mstep_function\u001b[0m\u001b[1;33m)\u001b[0m\u001b[1;33m,\u001b[0m \u001b[1;33m(\u001b[0m\u001b[0mag__\u001b[0m\u001b[1;33m.\u001b[0m\u001b[0mld\u001b[0m\u001b[1;33m(\u001b[0m\u001b[0mself\u001b[0m\u001b[1;33m)\u001b[0m\u001b[1;33m,\u001b[0m \u001b[0mag__\u001b[0m\u001b[1;33m.\u001b[0m\u001b[0mld\u001b[0m\u001b[1;33m(\u001b[0m\u001b[0miterator\u001b[0m\u001b[1;33m)\u001b[0m\u001b[1;33m)\u001b[0m\u001b[1;33m,\u001b[0m \u001b[1;32mNone\u001b[0m\u001b[1;33m,\u001b[0m \u001b[0mfscope\u001b[0m\u001b[1;33m)\u001b[0m\u001b[1;33m\u001b[0m\u001b[1;33m\u001b[0m\u001b[0m\n\u001b[0m\u001b[0;32m     16\u001b[0m                 \u001b[1;32mexcept\u001b[0m\u001b[1;33m:\u001b[0m\u001b[1;33m\u001b[0m\u001b[1;33m\u001b[0m\u001b[0m\n\u001b[0;32m     17\u001b[0m                     \u001b[0mdo_return\u001b[0m \u001b[1;33m=\u001b[0m \u001b[1;32mFalse\u001b[0m\u001b[1;33m\u001b[0m\u001b[1;33m\u001b[0m\u001b[0m\n",
      "\u001b[1;31mValueError\u001b[0m: in user code:\n\n    File \"C:\\Users\\hsj\\anaconda3\\lib\\site-packages\\keras\\engine\\training.py\", line 2137, in predict_function  *\n        return step_function(self, iterator)\n    File \"C:\\Users\\hsj\\anaconda3\\lib\\site-packages\\keras\\engine\\training.py\", line 2123, in step_function  **\n        outputs = model.distribute_strategy.run(run_step, args=(data,))\n    File \"C:\\Users\\hsj\\anaconda3\\lib\\site-packages\\keras\\engine\\training.py\", line 2111, in run_step  **\n        outputs = model.predict_step(data)\n    File \"C:\\Users\\hsj\\anaconda3\\lib\\site-packages\\keras\\engine\\training.py\", line 2079, in predict_step\n        return self(x, training=False)\n    File \"C:\\Users\\hsj\\anaconda3\\lib\\site-packages\\keras\\utils\\traceback_utils.py\", line 70, in error_handler\n        raise e.with_traceback(filtered_tb) from None\n    File \"C:\\Users\\hsj\\anaconda3\\lib\\site-packages\\keras\\engine\\input_spec.py\", line 250, in assert_input_compatibility\n        raise ValueError(\n\n    ValueError: Exception encountered when calling layer 'sequential' (type Sequential).\n    \n    Input 0 of layer \"conv2d\" is incompatible with the layer: expected min_ndim=4, found ndim=1. Full shape received: (None,)\n    \n    Call arguments received by layer 'sequential' (type Sequential):\n      • inputs=tf.Tensor(shape=(None,), dtype=int32)\n      • training=False\n      • mask=None\n"
     ]
    }
   ],
   "source": [
    "result = model.predict(test_image)[0]"
   ]
  },
  {
   "cell_type": "code",
   "execution_count": 19,
   "metadata": {},
   "outputs": [],
   "source": [
    "alyac_name = list(alyac_name)"
   ]
  },
  {
   "cell_type": "code",
   "execution_count": 20,
   "metadata": {},
   "outputs": [
    {
     "ename": "NameError",
     "evalue": "name 'result' is not defined",
     "output_type": "error",
     "traceback": [
      "\u001b[1;31m---------------------------------------------------------------------------\u001b[0m",
      "\u001b[1;31mNameError\u001b[0m                                 Traceback (most recent call last)",
      "\u001b[1;32m~\\AppData\\Local\\Temp\\ipykernel_24652\\1561217309.py\u001b[0m in \u001b[0;36m<module>\u001b[1;34m\u001b[0m\n\u001b[1;32m----> 1\u001b[1;33m \u001b[0mprint\u001b[0m\u001b[1;33m(\u001b[0m\u001b[1;34m'약이름은 :'\u001b[0m\u001b[1;33m,\u001b[0m\u001b[0malyac_name\u001b[0m\u001b[1;33m[\u001b[0m\u001b[0mresult\u001b[0m\u001b[1;33m.\u001b[0m\u001b[0margmax\u001b[0m\u001b[1;33m(\u001b[0m\u001b[1;33m)\u001b[0m\u001b[1;33m]\u001b[0m\u001b[1;33m)\u001b[0m\u001b[1;33m\u001b[0m\u001b[1;33m\u001b[0m\u001b[0m\n\u001b[0m",
      "\u001b[1;31mNameError\u001b[0m: name 'result' is not defined"
     ]
    }
   ],
   "source": [
    "print('약이름은 :',alyac_name[result.argmax()])"
   ]
  }
 ],
 "metadata": {
  "kernelspec": {
   "display_name": "bgrm",
   "language": "python",
   "name": "bgrm"
  },
  "language_info": {
   "codemirror_mode": {
    "name": "ipython",
    "version": 3
   },
   "file_extension": ".py",
   "mimetype": "text/x-python",
   "name": "python",
   "nbconvert_exporter": "python",
   "pygments_lexer": "ipython3",
   "version": "3.7.15"
  },
  "vscode": {
   "interpreter": {
    "hash": "58f6d747d7cdb604341a197aa9575a05a6f184ce596c0dea20c9854761e27ad4"
   }
  }
 },
 "nbformat": 4,
 "nbformat_minor": 4
}
