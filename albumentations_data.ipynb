{
 "cells": [
  {
   "cell_type": "code",
   "execution_count": 2,
   "id": "f7fb3cdb",
   "metadata": {},
   "outputs": [],
   "source": [
    "import albumentations as A\n",
    "import cv2\n",
    "import numpy as np\n",
    "import matplotlib.pyplot as plt\n",
    "from PIL import Image\n",
    "import pandas as pd\n",
    "import sklearn \n",
    "import joblib\n",
    "import os\n",
    "import imgaug\n",
    "from glob import glob"
   ]
  },
  {
   "cell_type": "code",
   "execution_count": 3,
   "id": "5d041779",
   "metadata": {},
   "outputs": [],
   "source": [
    "def load_img(path):\n",
    "    image = cv2.imread(path)\n",
    "    image = cv2.cvtColor(image, cv2.COLOR_BGR2RGB)\n",
    "    return image    "
   ]
  },
  {
   "cell_type": "code",
   "execution_count": 4,
   "id": "fe5d1586",
   "metadata": {},
   "outputs": [],
   "source": [
    "def comparison(actual_image, transformed_image, titles=None):\n",
    "    if titles == None:\n",
    "        titles = ['Actual Image', 'Transformed Image']\n",
    "        \n",
    "    fig, ax = plt.subplots(1, 2, figsize=(17, 17))\n",
    "    ax[0].set_title(titles[0])\n",
    "    if len(actual_image.shape) == 2:\n",
    "        ax[0].imshow(actual_image, cmap='gray')\n",
    "    else:\n",
    "        ax[0].matshow(actual_image)\n",
    "    ax[0].axis('off')\n",
    "\n",
    "    ax[1].set_title(titles[1])\n",
    "    if len(transformed_image.shape) == 2:\n",
    "        ax[1].imshow(transformed_image, cmap='gray')\n",
    "    else:\n",
    "        ax[1].matshow(transformed_image)\n",
    "    ax[1].axis('off')\n",
    "    plt.show()"
   ]
  },
  {
   "cell_type": "code",
   "execution_count": 5,
   "id": "09b837bd",
   "metadata": {},
   "outputs": [],
   "source": [
    "def save_al_img(file_name, path):\n",
    "    A.save(file_name, path)"
   ]
  },
  {
   "cell_type": "code",
   "execution_count": 6,
   "id": "196a851d",
   "metadata": {},
   "outputs": [],
   "source": [
    "from albumentations import (\n",
    "    HorizontalFlip, IAAPerspective, ShiftScaleRotate, CLAHE, RandomRotate90,\n",
    "    Transpose, ShiftScaleRotate, Blur, OpticalDistortion, GridDistortion, HueSaturationValue,\n",
    "    IAAAdditiveGaussianNoise, GaussNoise, MotionBlur, MedianBlur, IAAPiecewiseAffine,\n",
    "    IAASharpen, IAAEmboss, RandomBrightnessContrast, Flip, OneOf, Compose\n",
    ")"
   ]
  },
  {
   "cell_type": "code",
   "execution_count": 7,
   "id": "aa0c8479",
   "metadata": {},
   "outputs": [],
   "source": [
    "height = 150\n",
    "width = 150"
   ]
  },
  {
   "cell_type": "code",
   "execution_count": 8,
   "id": "d7afc163",
   "metadata": {},
   "outputs": [
    {
     "name": "stderr",
     "output_type": "stream",
     "text": [
      "c:\\Users\\hsj\\anaconda3\\envs\\bgrm\\lib\\site-packages\\albumentations\\imgaug\\transforms.py:261: FutureWarning: IAAAdditiveGaussianNoise is deprecated. Please use GaussNoise instead\n",
      "  warnings.warn(\"IAAAdditiveGaussianNoise is deprecated. Please use GaussNoise instead\", FutureWarning)\n",
      "c:\\Users\\hsj\\anaconda3\\envs\\bgrm\\lib\\site-packages\\albumentations\\imgaug\\transforms.py:299: FutureWarning: This IAAPiecewiseAffine is deprecated. Please use PiecewiseAffine instead\n",
      "  warnings.warn(\"This IAAPiecewiseAffine is deprecated. Please use PiecewiseAffine instead\", FutureWarning)\n",
      "c:\\Users\\hsj\\anaconda3\\envs\\bgrm\\lib\\site-packages\\albumentations\\imgaug\\transforms.py:231: FutureWarning: IAASharpen is deprecated. Please use Sharpen instead\n",
      "  warnings.warn(\"IAASharpen is deprecated. Please use Sharpen instead\", FutureWarning)\n",
      "c:\\Users\\hsj\\anaconda3\\envs\\bgrm\\lib\\site-packages\\albumentations\\imgaug\\transforms.py:174: FutureWarning: This augmentation is deprecated. Please use Emboss instead\n",
      "  warnings.warn(\"This augmentation is deprecated. Please use Emboss instead\", FutureWarning)\n"
     ]
    }
   ],
   "source": [
    "train_transeforms = Compose([\n",
    "        A.Resize(200,450),\n",
    "        RandomRotate90(),\n",
    "        Flip(),\n",
    "        Transpose(),\n",
    "        OneOf([\n",
    "            IAAAdditiveGaussianNoise(),\n",
    "            GaussNoise(),\n",
    "        ], p=0.2),\n",
    "        OneOf([\n",
    "            MotionBlur(p=0.2),\n",
    "            MedianBlur(blur_limit=3, p=0.1),\n",
    "            Blur(blur_limit=3, p=0.1),\n",
    "        ], p=0.2),\n",
    "        ShiftScaleRotate(shift_limit=0.0625, scale_limit=0.2, rotate_limit=45, p=0.2),\n",
    "        OneOf([\n",
    "            OpticalDistortion(p=0.3),\n",
    "            GridDistortion(p=0.1),\n",
    "            IAAPiecewiseAffine(p=0.3),\n",
    "        ], p=0.2),\n",
    "        OneOf([\n",
    "            CLAHE(clip_limit=2),\n",
    "            IAASharpen(),\n",
    "            IAAEmboss(),\n",
    "            RandomBrightnessContrast(),\n",
    "        ], p=0.3),\n",
    "        HueSaturationValue(p=0.3),\n",
    "        OneOf([\n",
    "            A.Resize(height=height, width=width),\n",
    "            A.RandomResizedCrop(height=height, width=width, scale=(0.3, 1.0)),\n",
    "        ]),\n",
    "\n",
    "        OneOf([\n",
    "            A.CoarseDropout(always_apply=False, p=0.5, max_holes=20, max_height=15, max_width=15, min_holes=1, min_height=8, min_width=8)\n",
    "        ], p=0.2),\n",
    "        OneOf([\n",
    "            A.ElasticTransform(always_apply=False, p=0.5, alpha=0.20000000298023224, sigma=3.359999895095825, alpha_affine=2.009999990463257, interpolation=1, border_mode=1, value=(0, 0, 0), mask_value=None, approximate=False)\n",
    "        ], p = 0.3),\n",
    "        OneOf([\n",
    "            HorizontalFlip(always_apply= False, p=0.5)\n",
    "\n",
    "        ],p=0.2)\n",
    "    ], p= 1.0)\n",
    "                "
   ]
  },
  {
   "cell_type": "code",
   "execution_count": 33,
   "id": "30363498",
   "metadata": {},
   "outputs": [],
   "source": [
    "folder = os.listdir('image/')\n",
    "imgs = glob('image/*/*.png')\n",
    "\n",
    "# 1. for-loop : folder\n",
    "for fd in range(len(folder)):\n",
    "    path = 'image/'+str(folder[fd])\n",
    "    file_list = os.listdir(path)\n",
    "    # 선택된 폴더 내의 이미지 갯수 만큼 반복\n",
    "    for ig in range(len(file_list)):\n",
    "        #이미지 선택 \n",
    "        img_path = path + '/' +str(file_list[ig])\n",
    "        image= load_img(img_path)\n",
    "        #print(img_path)\n",
    "        # transform & save transfromed img\n",
    "        for i in range(30):\n",
    "            transformed_img = train_transeforms(image= image)['image']\n",
    "            # save path\n",
    "            save_path = path + '/' + str(folder[fd]) + '_' + str(i) + '.png'\n",
    "            # save\n",
    "            cv2.imwrite(save_path, transformed_img)\n",
    "\n",
    "\n"
   ]
  }
 ],
 "metadata": {
  "kernelspec": {
   "display_name": "Python 3.7.15 ('bgrm')",
   "language": "python",
   "name": "python3"
  },
  "language_info": {
   "codemirror_mode": {
    "name": "ipython",
    "version": 3
   },
   "file_extension": ".py",
   "mimetype": "text/x-python",
   "name": "python",
   "nbconvert_exporter": "python",
   "pygments_lexer": "ipython3",
   "version": "3.7.15"
  },
  "vscode": {
   "interpreter": {
    "hash": "399da3c3afb91f79098adfd7652619b8a6c92ebcfdf99ae1bd3a8460c3c0b978"
   }
  }
 },
 "nbformat": 4,
 "nbformat_minor": 5
}
